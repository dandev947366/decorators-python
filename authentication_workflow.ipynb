{
 "cells": [
  {
   "cell_type": "markdown",
   "metadata": {},
   "source": [
    "Authentication Workflow"
   ]
  },
  {
   "cell_type": "code",
   "execution_count": 11,
   "metadata": {},
   "outputs": [],
   "source": [
    "# application state\n",
    "ROSTER = [\n",
    "    {\"name\":\"Alice\", \"votes\":12},\n",
    "    {\"name\":\"Tyler\", \"votes\":9},\n",
    "    {\"name\":\"Andrew\", \"votes\":10}\n",
    "]\n",
    "######################\n",
    "def menu():\n",
    "    while True:\n",
    "        print('''\n",
    "            a. View Roster\n",
    "            b. Upvote\n",
    "            c. Add to Roster\n",
    "            d. Quit\n",
    "        ''')\n",
    "        option = input(\"Enter option: \").lower()\n",
    "        \n",
    "        if option == 'a':\n",
    "            view_roster()\n",
    "        elif option == 'b':\n",
    "            upvote()\n",
    "        elif option == 'c':\n",
    "            add_to_roster()\n",
    "        else:\n",
    "            break\n",
    "            \n",
    "def view_roster():\n",
    "    sorted_roster = sorted(ROSTER, key=lambda p: p[\"votes\"], reverse=True)\n",
    "        \n",
    "    for p in sorted_roster:\n",
    "        print(f\"{p['name']}: {p['votes']}\")\n",
    "        \n",
    "def upvote():\n",
    "    name = input(\"Enter the name of the person to upvote: \").lower()\n",
    "    for p in ROSTER:\n",
    "        if p['name'].lower() == name:\n",
    "            p['votes'] += 1\n",
    "            print(f\"Upvoted {p['name']}!\")\n",
    "            return \n",
    "    print(\"Name was not found\")\n",
    "    \n",
    "def add_to_roster():\n",
    "    name = input(\"Enter the name of the person to add: \").lower()\n",
    "    ROSTER.append({\"name\": name, \"votes\": 0})\n",
    "    print(f\"Added {name} to the roster!\")"
   ]
  },
  {
   "cell_type": "code",
   "execution_count": 14,
   "metadata": {},
   "outputs": [
    {
     "name": "stdout",
     "output_type": "stream",
     "text": [
      "\n",
      "            a. View Roster\n",
      "            b. Upvote\n",
      "            c. Add to Roster\n",
      "            d. Quit\n",
      "        \n",
      "Added dan to the roster!\n",
      "\n",
      "            a. View Roster\n",
      "            b. Upvote\n",
      "            c. Add to Roster\n",
      "            d. Quit\n",
      "        \n",
      "Alice: 13\n",
      "Andrew: 10\n",
      "Tyler: 9\n",
      "dan: 0\n",
      "\n",
      "            a. View Roster\n",
      "            b. Upvote\n",
      "            c. Add to Roster\n",
      "            d. Quit\n",
      "        \n",
      "Upvoted dan!\n",
      "\n",
      "            a. View Roster\n",
      "            b. Upvote\n",
      "            c. Add to Roster\n",
      "            d. Quit\n",
      "        \n",
      "Alice: 13\n",
      "Andrew: 10\n",
      "Tyler: 9\n",
      "dan: 1\n",
      "\n",
      "            a. View Roster\n",
      "            b. Upvote\n",
      "            c. Add to Roster\n",
      "            d. Quit\n",
      "        \n"
     ]
    }
   ],
   "source": [
    "menu()"
   ]
  },
  {
   "cell_type": "code",
   "execution_count": null,
   "metadata": {},
   "outputs": [],
   "source": []
  },
  {
   "cell_type": "code",
   "execution_count": null,
   "metadata": {},
   "outputs": [],
   "source": []
  }
 ],
 "metadata": {
  "kernelspec": {
   "display_name": "venv",
   "language": "python",
   "name": "python3"
  },
  "language_info": {
   "codemirror_mode": {
    "name": "ipython",
    "version": 3
   },
   "file_extension": ".py",
   "mimetype": "text/x-python",
   "name": "python",
   "nbconvert_exporter": "python",
   "pygments_lexer": "ipython3",
   "version": "3.12.0"
  }
 },
 "nbformat": 4,
 "nbformat_minor": 2
}
