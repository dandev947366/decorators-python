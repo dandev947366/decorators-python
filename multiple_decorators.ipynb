{
 "cells": [
  {
   "cell_type": "markdown",
   "metadata": {},
   "source": [
    "Chaining Multiple Decorators"
   ]
  },
  {
   "cell_type": "code",
   "execution_count": 1,
   "metadata": {},
   "outputs": [],
   "source": [
    "# available decorators\n",
    "\n",
    "def uppercase(func):\n",
    "    def wrapper():\n",
    "        result = func()\n",
    "        return result.upper()\n",
    "    return wrapper\n",
    "    \n",
    "def split(func):\n",
    "    def wrapper():\n",
    "        result = func()\n",
    "        return result.split()\n",
    "    return wrapper"
   ]
  },
  {
   "cell_type": "code",
   "execution_count": 4,
   "metadata": {},
   "outputs": [],
   "source": [
    "# target function\n",
    "\n",
    "@split #apply second...apply from bottom to up\n",
    "@uppercase #apply first\n",
    "def passphrase():\n",
    "    return \"Horizontal Omit Station Reflection\""
   ]
  },
  {
   "cell_type": "code",
   "execution_count": 5,
   "metadata": {},
   "outputs": [
    {
     "data": {
      "text/plain": [
       "['HORIZONTAL', 'OMIT', 'STATION', 'REFLECTION']"
      ]
     },
     "execution_count": 5,
     "metadata": {},
     "output_type": "execute_result"
    }
   ],
   "source": [
    "passphrase()"
   ]
  },
  {
   "cell_type": "code",
   "execution_count": 7,
   "metadata": {},
   "outputs": [
    {
     "ename": "AttributeError",
     "evalue": "'list' object has no attribute 'upper'",
     "output_type": "error",
     "traceback": [
      "\u001b[0;31m---------------------------------------------------------------------------\u001b[0m",
      "\u001b[0;31mAttributeError\u001b[0m                            Traceback (most recent call last)",
      "\u001b[1;32m/Users/dandev947366/Desktop/Projects-github/decorators-python/multiple_decorators.ipynb Cell 5\u001b[0m line \u001b[0;36m9\n\u001b[1;32m      <a href='vscode-notebook-cell:/Users/dandev947366/Desktop/Projects-github/decorators-python/multiple_decorators.ipynb#W6sZmlsZQ%3D%3D?line=2'>3</a>\u001b[0m \u001b[39m@split\u001b[39m \n\u001b[1;32m      <a href='vscode-notebook-cell:/Users/dandev947366/Desktop/Projects-github/decorators-python/multiple_decorators.ipynb#W6sZmlsZQ%3D%3D?line=3'>4</a>\u001b[0m \u001b[39m@uppercase\u001b[39m\n\u001b[1;32m      <a href='vscode-notebook-cell:/Users/dandev947366/Desktop/Projects-github/decorators-python/multiple_decorators.ipynb#W6sZmlsZQ%3D%3D?line=4'>5</a>\u001b[0m \u001b[39m@split\u001b[39m\n\u001b[1;32m      <a href='vscode-notebook-cell:/Users/dandev947366/Desktop/Projects-github/decorators-python/multiple_decorators.ipynb#W6sZmlsZQ%3D%3D?line=5'>6</a>\u001b[0m \u001b[39mdef\u001b[39;00m \u001b[39mpassphrase\u001b[39m():\n\u001b[1;32m      <a href='vscode-notebook-cell:/Users/dandev947366/Desktop/Projects-github/decorators-python/multiple_decorators.ipynb#W6sZmlsZQ%3D%3D?line=6'>7</a>\u001b[0m     \u001b[39mreturn\u001b[39;00m \u001b[39m\"\u001b[39m\u001b[39mHorizontal Omit Station Reflection\u001b[39m\u001b[39m\"\u001b[39m\n\u001b[0;32m----> <a href='vscode-notebook-cell:/Users/dandev947366/Desktop/Projects-github/decorators-python/multiple_decorators.ipynb#W6sZmlsZQ%3D%3D?line=8'>9</a>\u001b[0m passphrase()\n",
      "\u001b[1;32m/Users/dandev947366/Desktop/Projects-github/decorators-python/multiple_decorators.ipynb Cell 5\u001b[0m line \u001b[0;36m1\n\u001b[1;32m     <a href='vscode-notebook-cell:/Users/dandev947366/Desktop/Projects-github/decorators-python/multiple_decorators.ipynb#W6sZmlsZQ%3D%3D?line=9'>10</a>\u001b[0m \u001b[39mdef\u001b[39;00m \u001b[39mwrapper\u001b[39m():\n\u001b[0;32m---> <a href='vscode-notebook-cell:/Users/dandev947366/Desktop/Projects-github/decorators-python/multiple_decorators.ipynb#W6sZmlsZQ%3D%3D?line=10'>11</a>\u001b[0m     result \u001b[39m=\u001b[39m func()\n\u001b[1;32m     <a href='vscode-notebook-cell:/Users/dandev947366/Desktop/Projects-github/decorators-python/multiple_decorators.ipynb#W6sZmlsZQ%3D%3D?line=11'>12</a>\u001b[0m     \u001b[39mreturn\u001b[39;00m result\u001b[39m.\u001b[39msplit()\n",
      "\u001b[1;32m/Users/dandev947366/Desktop/Projects-github/decorators-python/multiple_decorators.ipynb Cell 5\u001b[0m line \u001b[0;36m6\n\u001b[1;32m      <a href='vscode-notebook-cell:/Users/dandev947366/Desktop/Projects-github/decorators-python/multiple_decorators.ipynb#W6sZmlsZQ%3D%3D?line=3'>4</a>\u001b[0m \u001b[39mdef\u001b[39;00m \u001b[39mwrapper\u001b[39m():\n\u001b[1;32m      <a href='vscode-notebook-cell:/Users/dandev947366/Desktop/Projects-github/decorators-python/multiple_decorators.ipynb#W6sZmlsZQ%3D%3D?line=4'>5</a>\u001b[0m     result \u001b[39m=\u001b[39m func()\n\u001b[0;32m----> <a href='vscode-notebook-cell:/Users/dandev947366/Desktop/Projects-github/decorators-python/multiple_decorators.ipynb#W6sZmlsZQ%3D%3D?line=5'>6</a>\u001b[0m     \u001b[39mreturn\u001b[39;00m result\u001b[39m.\u001b[39;49mupper()\n",
      "\u001b[0;31mAttributeError\u001b[0m: 'list' object has no attribute 'upper'"
     ]
    }
   ],
   "source": [
    "#NOTE SHOULD GET AN EXCEPTION IF CHANGE ORDER\n",
    "\n",
    "@split \n",
    "@uppercase\n",
    "@split\n",
    "def passphrase():\n",
    "    return \"Horizontal Omit Station Reflection\"\n",
    "    \n",
    "passphrase()"
   ]
  }
 ],
 "metadata": {
  "kernelspec": {
   "display_name": "venv",
   "language": "python",
   "name": "python3"
  },
  "language_info": {
   "codemirror_mode": {
    "name": "ipython",
    "version": 3
   },
   "file_extension": ".py",
   "mimetype": "text/x-python",
   "name": "python",
   "nbconvert_exporter": "python",
   "pygments_lexer": "ipython3",
   "version": "3.12.0"
  }
 },
 "nbformat": 4,
 "nbformat_minor": 2
}
