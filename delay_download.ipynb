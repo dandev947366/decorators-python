{
 "cells": [
  {
   "cell_type": "markdown",
   "metadata": {},
   "source": [
    "Delaying Downloads"
   ]
  },
  {
   "cell_type": "code",
   "execution_count": 9,
   "metadata": {},
   "outputs": [],
   "source": [
    "import time\n",
    "user_delay = {}\n",
    "\n",
    "def delay_decorator(func):\n",
    "    def wrapper(*args, **kwargs):\n",
    "        delay = user_delay.get(kwargs.get(\"user_id\"), 0)\n",
    "        user_delay[kwargs.get(\"user_id\")] = max(1, delay * 2)\n",
    "        if delay > 0:\n",
    "            print(f\"Your download will start in {delay} s\")\n",
    "        time.sleep(delay)\n",
    "        result = func(*args, **kwargs)\n",
    "    return wrapper"
   ]
  },
  {
   "cell_type": "code",
   "execution_count": 10,
   "metadata": {},
   "outputs": [],
   "source": [
    "from uuid import uuid4\n",
    "\n",
    "@delay_decorator\n",
    "def download(user_id, resource):\n",
    "    download_uuid = uuid4()\n",
    "    download_url = f\"danle.dev/{download_uuid}\"\n",
    "    return f\"Your resource is ready at : {download_url}\"\n",
    "    \n"
   ]
  },
  {
   "cell_type": "code",
   "execution_count": 15,
   "metadata": {},
   "outputs": [
    {
     "name": "stdout",
     "output_type": "stream",
     "text": [
      "Your download will start in 8 s\n"
     ]
    }
   ],
   "source": [
    "download(2, \"python\")"
   ]
  }
 ],
 "metadata": {
  "kernelspec": {
   "display_name": "venv",
   "language": "python",
   "name": "python3"
  },
  "language_info": {
   "codemirror_mode": {
    "name": "ipython",
    "version": 3
   },
   "file_extension": ".py",
   "mimetype": "text/x-python",
   "name": "python",
   "nbconvert_exporter": "python",
   "pygments_lexer": "ipython3",
   "version": "3.12.0"
  }
 },
 "nbformat": 4,
 "nbformat_minor": 2
}
