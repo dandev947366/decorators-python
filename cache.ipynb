{
 "cells": [
  {
   "cell_type": "markdown",
   "metadata": {},
   "source": [
    "Building A Cache Challenge"
   ]
  },
  {
   "cell_type": "code",
   "execution_count": 10,
   "metadata": {},
   "outputs": [
    {
     "name": "stdout",
     "output_type": "stream",
     "text": [
      "Fetching weather data for New York...\n",
      "{'temperature': 6, 'humidity': 78}\n",
      "Returning cached result for New York...\n",
      "{'temperature': 6, 'humidity': 78}\n",
      "Fetching weather data for New York...\n",
      "{'temperature': -9, 'humidity': 3}\n"
     ]
    }
   ],
   "source": [
    "import time\n",
    "from random import randint\n",
    "from functools import wraps\n",
    "\n",
    "# Cache structure\n",
    "cache = {}\n",
    "\n",
    "def cache_decorator(func):\n",
    "    @wraps(func)\n",
    "    def wrapper(city):\n",
    "        if city in cache and time.time() - cache[city]['time'] < 10:\n",
    "            print(f\"Returning cached result for {city}...\")\n",
    "            return cache[city]['data']\n",
    "        \n",
    "        result = func(city)\n",
    "        cache[city] = {\n",
    "            \"data\": result,\n",
    "            \"time\": time.time()\n",
    "        }\n",
    "        return result\n",
    "    return wrapper\n",
    "\n",
    "@cache_decorator\n",
    "def get_weather(city):\n",
    "    print(f\"Fetching weather data for {city}...\")\n",
    "    time.sleep(1)\n",
    "    \n",
    "    weather_data = {\n",
    "        'temperature': randint(-10, 30),\n",
    "        'humidity': randint(0, 100)\n",
    "    }\n",
    "    \n",
    "    return weather_data\n",
    "\n",
    "# Example usage\n",
    "if __name__ == \"__main__\":\n",
    "    city = \"New York\"\n",
    "    \n",
    "    # First call, data will be fetched and cached\n",
    "    print(get_weather(city))\n",
    "    \n",
    "    # Second call within 10 seconds, cached data will be returned\n",
    "    print(get_weather(city))\n",
    "    \n",
    "    # Wait for more than 10 seconds to demonstrate cache expiration\n",
    "    time.sleep(11)\n",
    "    \n",
    "    # Third call after cache expires, data will be fetched again\n",
    "    print(get_weather(city))\n"
   ]
  }
 ],
 "metadata": {
  "kernelspec": {
   "display_name": "venv",
   "language": "python",
   "name": "python3"
  },
  "language_info": {
   "codemirror_mode": {
    "name": "ipython",
    "version": 3
   },
   "file_extension": ".py",
   "mimetype": "text/x-python",
   "name": "python",
   "nbconvert_exporter": "python",
   "pygments_lexer": "ipython3",
   "version": "3.12.0"
  }
 },
 "nbformat": 4,
 "nbformat_minor": 2
}
